{
 "cells": [
  {
   "cell_type": "code",
   "execution_count": 12,
   "metadata": {},
   "outputs": [],
   "source": [
    "import pandas as pd\n",
    "import numpy as np\n",
    "import re"
   ]
  },
  {
   "cell_type": "code",
   "execution_count": 13,
   "metadata": {},
   "outputs": [],
   "source": [
    "data=pd.read_csv('ipc_sections.csv')"
   ]
  },
  {
   "cell_type": "code",
   "execution_count": 5,
   "metadata": {},
   "outputs": [
    {
     "data": {
      "text/html": [
       "<div>\n",
       "<style scoped>\n",
       "    .dataframe tbody tr th:only-of-type {\n",
       "        vertical-align: middle;\n",
       "    }\n",
       "\n",
       "    .dataframe tbody tr th {\n",
       "        vertical-align: top;\n",
       "    }\n",
       "\n",
       "    .dataframe thead th {\n",
       "        text-align: right;\n",
       "    }\n",
       "</style>\n",
       "<table border=\"1\" class=\"dataframe\">\n",
       "  <thead>\n",
       "    <tr style=\"text-align: right;\">\n",
       "      <th></th>\n",
       "      <th>Description</th>\n",
       "      <th>Offense</th>\n",
       "      <th>Punishment</th>\n",
       "      <th>Section</th>\n",
       "    </tr>\n",
       "  </thead>\n",
       "  <tbody>\n",
       "    <tr>\n",
       "      <th>0</th>\n",
       "      <td>Description of IPC Section 140\\nAccording to s...</td>\n",
       "      <td>Wearing the dress or carrying any token used b...</td>\n",
       "      <td>3 Months or Fine or Both</td>\n",
       "      <td>IPC_140</td>\n",
       "    </tr>\n",
       "    <tr>\n",
       "      <th>1</th>\n",
       "      <td>Description of IPC Section 127\\nAccording to s...</td>\n",
       "      <td>Receiving property taken by war or depredation...</td>\n",
       "      <td>7 Years + Fine + forfeiture of property</td>\n",
       "      <td>IPC_127</td>\n",
       "    </tr>\n",
       "    <tr>\n",
       "      <th>2</th>\n",
       "      <td>Description of IPC Section 128\\nAccording to s...</td>\n",
       "      <td>Public servant voluntarily allowing prisoner o...</td>\n",
       "      <td>Imprisonment for Life or 10 Years + Fine</td>\n",
       "      <td>IPC_128</td>\n",
       "    </tr>\n",
       "    <tr>\n",
       "      <th>3</th>\n",
       "      <td>Description of IPC Section 129\\nAccording to s...</td>\n",
       "      <td>Public servant negligently suffering prisoner ...</td>\n",
       "      <td>Simple Imprisonment 3 Years + Fine</td>\n",
       "      <td>IPC_129</td>\n",
       "    </tr>\n",
       "    <tr>\n",
       "      <th>4</th>\n",
       "      <td>Description of IPC Section 130\\nAccording to s...</td>\n",
       "      <td>Aiding escape of, rescuing or harbouring, such...</td>\n",
       "      <td>Imprisonment for Life or 10 Years + Fine</td>\n",
       "      <td>IPC_130</td>\n",
       "    </tr>\n",
       "    <tr>\n",
       "      <th>...</th>\n",
       "      <td>...</td>\n",
       "      <td>...</td>\n",
       "      <td>...</td>\n",
       "      <td>...</td>\n",
       "    </tr>\n",
       "    <tr>\n",
       "      <th>439</th>\n",
       "      <td>Description of IPC Section 507\\nAccording to s...</td>\n",
       "      <td>Criminal intimidation by Anonymous communicati...</td>\n",
       "      <td>As in Section 506 + 2 Years</td>\n",
       "      <td>IPC_507</td>\n",
       "    </tr>\n",
       "    <tr>\n",
       "      <th>440</th>\n",
       "      <td>Description of IPC Section 508\\nAccording to s...</td>\n",
       "      <td>Act caused by inducing a person to believe tha...</td>\n",
       "      <td>1 Year or Fine or Both</td>\n",
       "      <td>IPC_508</td>\n",
       "    </tr>\n",
       "    <tr>\n",
       "      <th>441</th>\n",
       "      <td>Description of IPC Section 509\\nAccording to s...</td>\n",
       "      <td>Uttering any word or making any gesture intend...</td>\n",
       "      <td>Simple imprisonment for 3 years + Fine</td>\n",
       "      <td>IPC_509</td>\n",
       "    </tr>\n",
       "    <tr>\n",
       "      <th>442</th>\n",
       "      <td>Description of IPC Section 510\\nAccording to s...</td>\n",
       "      <td>Appearing in a public Place, etc., in a State ...</td>\n",
       "      <td>Simple Imprisonment for 24 hours or Fine or Both</td>\n",
       "      <td>IPC_510</td>\n",
       "    </tr>\n",
       "    <tr>\n",
       "      <th>443</th>\n",
       "      <td>Description of IPC Section 511\\nAccording to s...</td>\n",
       "      <td>Attempting to commit offences punishable with ...</td>\n",
       "      <td>Imprisonment for Life or Imprisonment not exce...</td>\n",
       "      <td>IPC_511</td>\n",
       "    </tr>\n",
       "  </tbody>\n",
       "</table>\n",
       "<p>444 rows × 4 columns</p>\n",
       "</div>"
      ],
      "text/plain": [
       "                                           Description  \\\n",
       "0    Description of IPC Section 140\\nAccording to s...   \n",
       "1    Description of IPC Section 127\\nAccording to s...   \n",
       "2    Description of IPC Section 128\\nAccording to s...   \n",
       "3    Description of IPC Section 129\\nAccording to s...   \n",
       "4    Description of IPC Section 130\\nAccording to s...   \n",
       "..                                                 ...   \n",
       "439  Description of IPC Section 507\\nAccording to s...   \n",
       "440  Description of IPC Section 508\\nAccording to s...   \n",
       "441  Description of IPC Section 509\\nAccording to s...   \n",
       "442  Description of IPC Section 510\\nAccording to s...   \n",
       "443  Description of IPC Section 511\\nAccording to s...   \n",
       "\n",
       "                                               Offense  \\\n",
       "0    Wearing the dress or carrying any token used b...   \n",
       "1    Receiving property taken by war or depredation...   \n",
       "2    Public servant voluntarily allowing prisoner o...   \n",
       "3    Public servant negligently suffering prisoner ...   \n",
       "4    Aiding escape of, rescuing or harbouring, such...   \n",
       "..                                                 ...   \n",
       "439  Criminal intimidation by Anonymous communicati...   \n",
       "440  Act caused by inducing a person to believe tha...   \n",
       "441  Uttering any word or making any gesture intend...   \n",
       "442  Appearing in a public Place, etc., in a State ...   \n",
       "443  Attempting to commit offences punishable with ...   \n",
       "\n",
       "                                            Punishment  Section  \n",
       "0                             3 Months or Fine or Both  IPC_140  \n",
       "1              7 Years + Fine + forfeiture of property  IPC_127  \n",
       "2             Imprisonment for Life or 10 Years + Fine  IPC_128  \n",
       "3                   Simple Imprisonment 3 Years + Fine  IPC_129  \n",
       "4             Imprisonment for Life or 10 Years + Fine  IPC_130  \n",
       "..                                                 ...      ...  \n",
       "439                        As in Section 506 + 2 Years  IPC_507  \n",
       "440                             1 Year or Fine or Both  IPC_508  \n",
       "441             Simple imprisonment for 3 years + Fine  IPC_509  \n",
       "442   Simple Imprisonment for 24 hours or Fine or Both  IPC_510  \n",
       "443  Imprisonment for Life or Imprisonment not exce...  IPC_511  \n",
       "\n",
       "[444 rows x 4 columns]"
      ]
     },
     "execution_count": 5,
     "metadata": {},
     "output_type": "execute_result"
    }
   ],
   "source": [
    "data"
   ]
  },
  {
   "cell_type": "code",
   "execution_count": 28,
   "metadata": {},
   "outputs": [
    {
     "data": {
      "text/plain": [
       "'Public servant voluntarily allowing prisoner of State or war in his custody to escape'"
      ]
     },
     "execution_count": 28,
     "metadata": {},
     "output_type": "execute_result"
    }
   ],
   "source": [
    "data['Offense'].iloc[2]"
   ]
  },
  {
   "cell_type": "code",
   "execution_count": 59,
   "metadata": {},
   "outputs": [],
   "source": [
    "punishment=data['Punishment']"
   ]
  },
  {
   "cell_type": "code",
   "execution_count": 60,
   "metadata": {},
   "outputs": [],
   "source": [
    "data.drop(\"Description\",axis=1,inplace=True)\n",
    "data.drop(\"Punishment\",axis=1,inplace=True)"
   ]
  },
  {
   "cell_type": "code",
   "execution_count": 61,
   "metadata": {},
   "outputs": [],
   "source": [
    "Map={}\n",
    "Rev_Map={}"
   ]
  },
  {
   "cell_type": "code",
   "execution_count": 62,
   "metadata": {},
   "outputs": [
    {
     "name": "stderr",
     "output_type": "stream",
     "text": [
      "C:\\Users\\ayush\\AppData\\Local\\Temp\\ipykernel_14260\\1772806945.py:7: FutureWarning: ChainedAssignmentError: behaviour will change in pandas 3.0!\n",
      "You are setting values through chained assignment. Currently this works in certain cases, but when using Copy-on-Write (which will become the default behaviour in pandas 3.0) this will never work to update the original DataFrame or Series, because the intermediate object on which we are setting values will behave as a copy.\n",
      "A typical example is when you are setting values in a column of a DataFrame, like:\n",
      "\n",
      "df[\"col\"][row_indexer] = value\n",
      "\n",
      "Use `df.loc[row_indexer, \"col\"] = values` instead, to perform the assignment in a single step and ensure this keeps updating the original `df`.\n",
      "\n",
      "See the caveats in the documentation: https://pandas.pydata.org/pandas-docs/stable/user_guide/indexing.html#returning-a-view-versus-a-copy\n",
      "\n",
      "  data['Section'].iloc[j]=index\n",
      "C:\\Users\\ayush\\AppData\\Local\\Temp\\ipykernel_14260\\1772806945.py:10: FutureWarning: ChainedAssignmentError: behaviour will change in pandas 3.0!\n",
      "You are setting values through chained assignment. Currently this works in certain cases, but when using Copy-on-Write (which will become the default behaviour in pandas 3.0) this will never work to update the original DataFrame or Series, because the intermediate object on which we are setting values will behave as a copy.\n",
      "A typical example is when you are setting values in a column of a DataFrame, like:\n",
      "\n",
      "df[\"col\"][row_indexer] = value\n",
      "\n",
      "Use `df.loc[row_indexer, \"col\"] = values` instead, to perform the assignment in a single step and ensure this keeps updating the original `df`.\n",
      "\n",
      "See the caveats in the documentation: https://pandas.pydata.org/pandas-docs/stable/user_guide/indexing.html#returning-a-view-versus-a-copy\n",
      "\n",
      "  data['Section'].iloc[j]=Map[i]\n"
     ]
    }
   ],
   "source": [
    "index=0\n",
    "for j in range(len(data)):\n",
    "    i=data['Section'].iloc[j]\n",
    "    if i not in Map.keys():\n",
    "        Map[i]=index\n",
    "        Rev_Map[index]=i\n",
    "        data['Section'].iloc[j]=index\n",
    "        index+=1\n",
    "    else:\n",
    "        data['Section'].iloc[j]=Map[i]"
   ]
  },
  {
   "cell_type": "code",
   "execution_count": 63,
   "metadata": {},
   "outputs": [
    {
     "data": {
      "text/plain": [
       "0"
      ]
     },
     "execution_count": 63,
     "metadata": {},
     "output_type": "execute_result"
    }
   ],
   "source": [
    "Map['IPC_140']"
   ]
  },
  {
   "cell_type": "code",
   "execution_count": 65,
   "metadata": {},
   "outputs": [
    {
     "data": {
      "text/plain": [
       "'IPC_140'"
      ]
     },
     "execution_count": 65,
     "metadata": {},
     "output_type": "execute_result"
    }
   ],
   "source": [
    "Rev_Map[0]"
   ]
  },
  {
   "cell_type": "markdown",
   "metadata": {},
   "source": [
    "Augmentation"
   ]
  },
  {
   "cell_type": "code",
   "execution_count": 4,
   "metadata": {},
   "outputs": [],
   "source": [
    "from transformers import MarianTokenizer, MarianMTModel"
   ]
  },
  {
   "cell_type": "code",
   "execution_count": 5,
   "metadata": {},
   "outputs": [
    {
     "name": "stderr",
     "output_type": "stream",
     "text": [
      "c:\\Users\\ayush\\miniconda3\\envs\\ipc\\Lib\\site-packages\\huggingface_hub\\file_download.py:159: UserWarning: `huggingface_hub` cache-system uses symlinks by default to efficiently store duplicated files but your machine does not support them in C:\\Users\\ayush\\.cache\\huggingface\\hub\\models--Helsinki-NLP--opus-mt-en-de. Caching files will still work but in a degraded version that might require more space on your disk. This warning can be disabled by setting the `HF_HUB_DISABLE_SYMLINKS_WARNING` environment variable. For more details, see https://huggingface.co/docs/huggingface_hub/how-to-cache#limitations.\n",
      "To support symlinks on Windows, you either need to activate Developer Mode or to run Python as an administrator. In order to see activate developer mode, see this article: https://docs.microsoft.com/en-us/windows/apps/get-started/enable-your-device-for-development\n",
      "  warnings.warn(message)\n",
      "c:\\Users\\ayush\\miniconda3\\envs\\ipc\\Lib\\site-packages\\transformers\\models\\marian\\tokenization_marian.py:175: UserWarning: Recommended: pip install sacremoses.\n",
      "  warnings.warn(\"Recommended: pip install sacremoses.\")\n",
      "c:\\Users\\ayush\\miniconda3\\envs\\ipc\\Lib\\site-packages\\transformers\\tokenization_utils_base.py:1601: FutureWarning: `clean_up_tokenization_spaces` was not set. It will be set to `True` by default. This behavior will be depracted in transformers v4.45, and will be then set to `False` by default. For more details check this issue: https://github.com/huggingface/transformers/issues/31884\n",
      "  warnings.warn(\n"
     ]
    }
   ],
   "source": [
    "tokenizer = MarianTokenizer.from_pretrained('Helsinki-NLP/opus-mt-en-de')\n",
    "model = MarianMTModel.from_pretrained('Helsinki-NLP/opus-mt-en-de')"
   ]
  }
 ],
 "metadata": {
  "kernelspec": {
   "display_name": "Python 3",
   "language": "python",
   "name": "python3"
  },
  "language_info": {
   "codemirror_mode": {
    "name": "ipython",
    "version": 3
   },
   "file_extension": ".py",
   "mimetype": "text/x-python",
   "name": "python",
   "nbconvert_exporter": "python",
   "pygments_lexer": "ipython3",
   "version": "3.11.9"
  }
 },
 "nbformat": 4,
 "nbformat_minor": 2
}
