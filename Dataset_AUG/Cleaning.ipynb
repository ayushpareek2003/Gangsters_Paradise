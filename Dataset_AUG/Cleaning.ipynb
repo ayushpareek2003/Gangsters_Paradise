{
 "cells": [
  {
   "cell_type": "code",
   "execution_count": 21,
   "metadata": {},
   "outputs": [],
   "source": [
    "import pandas as pd\n",
    "import numpy as np\n",
    "import re\n",
    "import augmentor\n",
    "import json"
   ]
  },
  {
   "cell_type": "code",
   "execution_count": 23,
   "metadata": {},
   "outputs": [],
   "source": [
    "data=pd.read_csv(\"D://PRojects//IPC//ipc_sections.csv\")"
   ]
  },
  {
   "cell_type": "code",
   "execution_count": 24,
   "metadata": {},
   "outputs": [],
   "source": [
    "data.dropna(subset=['Offense'],inplace=True)"
   ]
  },
  {
   "cell_type": "code",
   "execution_count": 25,
   "metadata": {},
   "outputs": [
    {
     "data": {
      "text/html": [
       "<div>\n",
       "<style scoped>\n",
       "    .dataframe tbody tr th:only-of-type {\n",
       "        vertical-align: middle;\n",
       "    }\n",
       "\n",
       "    .dataframe tbody tr th {\n",
       "        vertical-align: top;\n",
       "    }\n",
       "\n",
       "    .dataframe thead th {\n",
       "        text-align: right;\n",
       "    }\n",
       "</style>\n",
       "<table border=\"1\" class=\"dataframe\">\n",
       "  <thead>\n",
       "    <tr style=\"text-align: right;\">\n",
       "      <th></th>\n",
       "      <th>Description</th>\n",
       "      <th>Offense</th>\n",
       "      <th>Punishment</th>\n",
       "      <th>Section</th>\n",
       "    </tr>\n",
       "  </thead>\n",
       "  <tbody>\n",
       "    <tr>\n",
       "      <th>0</th>\n",
       "      <td>Description of IPC Section 140\\nAccording to s...</td>\n",
       "      <td>Wearing the dress or carrying any token used b...</td>\n",
       "      <td>3 Months or Fine or Both</td>\n",
       "      <td>IPC_140</td>\n",
       "    </tr>\n",
       "    <tr>\n",
       "      <th>1</th>\n",
       "      <td>Description of IPC Section 127\\nAccording to s...</td>\n",
       "      <td>Receiving property taken by war or depredation...</td>\n",
       "      <td>7 Years + Fine + forfeiture of property</td>\n",
       "      <td>IPC_127</td>\n",
       "    </tr>\n",
       "    <tr>\n",
       "      <th>2</th>\n",
       "      <td>Description of IPC Section 128\\nAccording to s...</td>\n",
       "      <td>Public servant voluntarily allowing prisoner o...</td>\n",
       "      <td>Imprisonment for Life or 10 Years + Fine</td>\n",
       "      <td>IPC_128</td>\n",
       "    </tr>\n",
       "    <tr>\n",
       "      <th>3</th>\n",
       "      <td>Description of IPC Section 129\\nAccording to s...</td>\n",
       "      <td>Public servant negligently suffering prisoner ...</td>\n",
       "      <td>Simple Imprisonment 3 Years + Fine</td>\n",
       "      <td>IPC_129</td>\n",
       "    </tr>\n",
       "    <tr>\n",
       "      <th>4</th>\n",
       "      <td>Description of IPC Section 130\\nAccording to s...</td>\n",
       "      <td>Aiding escape of, rescuing or harbouring, such...</td>\n",
       "      <td>Imprisonment for Life or 10 Years + Fine</td>\n",
       "      <td>IPC_130</td>\n",
       "    </tr>\n",
       "    <tr>\n",
       "      <th>...</th>\n",
       "      <td>...</td>\n",
       "      <td>...</td>\n",
       "      <td>...</td>\n",
       "      <td>...</td>\n",
       "    </tr>\n",
       "    <tr>\n",
       "      <th>439</th>\n",
       "      <td>Description of IPC Section 507\\nAccording to s...</td>\n",
       "      <td>Criminal intimidation by Anonymous communicati...</td>\n",
       "      <td>As in Section 506 + 2 Years</td>\n",
       "      <td>IPC_507</td>\n",
       "    </tr>\n",
       "    <tr>\n",
       "      <th>440</th>\n",
       "      <td>Description of IPC Section 508\\nAccording to s...</td>\n",
       "      <td>Act caused by inducing a person to believe tha...</td>\n",
       "      <td>1 Year or Fine or Both</td>\n",
       "      <td>IPC_508</td>\n",
       "    </tr>\n",
       "    <tr>\n",
       "      <th>441</th>\n",
       "      <td>Description of IPC Section 509\\nAccording to s...</td>\n",
       "      <td>Uttering any word or making any gesture intend...</td>\n",
       "      <td>Simple imprisonment for 3 years + Fine</td>\n",
       "      <td>IPC_509</td>\n",
       "    </tr>\n",
       "    <tr>\n",
       "      <th>442</th>\n",
       "      <td>Description of IPC Section 510\\nAccording to s...</td>\n",
       "      <td>Appearing in a public Place, etc., in a State ...</td>\n",
       "      <td>Simple Imprisonment for 24 hours or Fine or Both</td>\n",
       "      <td>IPC_510</td>\n",
       "    </tr>\n",
       "    <tr>\n",
       "      <th>443</th>\n",
       "      <td>Description of IPC Section 511\\nAccording to s...</td>\n",
       "      <td>Attempting to commit offences punishable with ...</td>\n",
       "      <td>Imprisonment for Life or Imprisonment not exce...</td>\n",
       "      <td>IPC_511</td>\n",
       "    </tr>\n",
       "  </tbody>\n",
       "</table>\n",
       "<p>387 rows × 4 columns</p>\n",
       "</div>"
      ],
      "text/plain": [
       "                                           Description  \\\n",
       "0    Description of IPC Section 140\\nAccording to s...   \n",
       "1    Description of IPC Section 127\\nAccording to s...   \n",
       "2    Description of IPC Section 128\\nAccording to s...   \n",
       "3    Description of IPC Section 129\\nAccording to s...   \n",
       "4    Description of IPC Section 130\\nAccording to s...   \n",
       "..                                                 ...   \n",
       "439  Description of IPC Section 507\\nAccording to s...   \n",
       "440  Description of IPC Section 508\\nAccording to s...   \n",
       "441  Description of IPC Section 509\\nAccording to s...   \n",
       "442  Description of IPC Section 510\\nAccording to s...   \n",
       "443  Description of IPC Section 511\\nAccording to s...   \n",
       "\n",
       "                                               Offense  \\\n",
       "0    Wearing the dress or carrying any token used b...   \n",
       "1    Receiving property taken by war or depredation...   \n",
       "2    Public servant voluntarily allowing prisoner o...   \n",
       "3    Public servant negligently suffering prisoner ...   \n",
       "4    Aiding escape of, rescuing or harbouring, such...   \n",
       "..                                                 ...   \n",
       "439  Criminal intimidation by Anonymous communicati...   \n",
       "440  Act caused by inducing a person to believe tha...   \n",
       "441  Uttering any word or making any gesture intend...   \n",
       "442  Appearing in a public Place, etc., in a State ...   \n",
       "443  Attempting to commit offences punishable with ...   \n",
       "\n",
       "                                            Punishment  Section  \n",
       "0                             3 Months or Fine or Both  IPC_140  \n",
       "1              7 Years + Fine + forfeiture of property  IPC_127  \n",
       "2             Imprisonment for Life or 10 Years + Fine  IPC_128  \n",
       "3                   Simple Imprisonment 3 Years + Fine  IPC_129  \n",
       "4             Imprisonment for Life or 10 Years + Fine  IPC_130  \n",
       "..                                                 ...      ...  \n",
       "439                        As in Section 506 + 2 Years  IPC_507  \n",
       "440                             1 Year or Fine or Both  IPC_508  \n",
       "441             Simple imprisonment for 3 years + Fine  IPC_509  \n",
       "442   Simple Imprisonment for 24 hours or Fine or Both  IPC_510  \n",
       "443  Imprisonment for Life or Imprisonment not exce...  IPC_511  \n",
       "\n",
       "[387 rows x 4 columns]"
      ]
     },
     "execution_count": 25,
     "metadata": {},
     "output_type": "execute_result"
    }
   ],
   "source": [
    "data"
   ]
  },
  {
   "cell_type": "code",
   "execution_count": 26,
   "metadata": {},
   "outputs": [
    {
     "data": {
      "text/plain": [
       "'Public servant voluntarily allowing prisoner of State or war in his custody to escape'"
      ]
     },
     "execution_count": 26,
     "metadata": {},
     "output_type": "execute_result"
    }
   ],
   "source": [
    "data['Offense'].iloc[2]"
   ]
  },
  {
   "cell_type": "code",
   "execution_count": 8,
   "metadata": {},
   "outputs": [],
   "source": [
    "data.drop(\"Description\",axis=1,inplace=True)"
   ]
  },
  {
   "cell_type": "code",
   "execution_count": 27,
   "metadata": {},
   "outputs": [],
   "source": [
    "Map={}\n",
    "Rev_Map={}\n",
    "Punishment={}"
   ]
  },
  {
   "cell_type": "code",
   "execution_count": 28,
   "metadata": {},
   "outputs": [
    {
     "name": "stderr",
     "output_type": "stream",
     "text": [
      "C:\\Users\\ayush\\AppData\\Local\\Temp\\ipykernel_14816\\809697707.py:7: FutureWarning: ChainedAssignmentError: behaviour will change in pandas 3.0!\n",
      "You are setting values through chained assignment. Currently this works in certain cases, but when using Copy-on-Write (which will become the default behaviour in pandas 3.0) this will never work to update the original DataFrame or Series, because the intermediate object on which we are setting values will behave as a copy.\n",
      "A typical example is when you are setting values in a column of a DataFrame, like:\n",
      "\n",
      "df[\"col\"][row_indexer] = value\n",
      "\n",
      "Use `df.loc[row_indexer, \"col\"] = values` instead, to perform the assignment in a single step and ensure this keeps updating the original `df`.\n",
      "\n",
      "See the caveats in the documentation: https://pandas.pydata.org/pandas-docs/stable/user_guide/indexing.html#returning-a-view-versus-a-copy\n",
      "\n",
      "  data['Section'].iloc[j]=index\n",
      "C:\\Users\\ayush\\AppData\\Local\\Temp\\ipykernel_14816\\809697707.py:11: FutureWarning: ChainedAssignmentError: behaviour will change in pandas 3.0!\n",
      "You are setting values through chained assignment. Currently this works in certain cases, but when using Copy-on-Write (which will become the default behaviour in pandas 3.0) this will never work to update the original DataFrame or Series, because the intermediate object on which we are setting values will behave as a copy.\n",
      "A typical example is when you are setting values in a column of a DataFrame, like:\n",
      "\n",
      "df[\"col\"][row_indexer] = value\n",
      "\n",
      "Use `df.loc[row_indexer, \"col\"] = values` instead, to perform the assignment in a single step and ensure this keeps updating the original `df`.\n",
      "\n",
      "See the caveats in the documentation: https://pandas.pydata.org/pandas-docs/stable/user_guide/indexing.html#returning-a-view-versus-a-copy\n",
      "\n",
      "  data['Section'].iloc[j]=Map[i]\n"
     ]
    }
   ],
   "source": [
    "index=0\n",
    "for j in range(len(data)):\n",
    "    i=data['Section'].iloc[j]\n",
    "    if i not in Map.keys():\n",
    "        Map[i]=index\n",
    "        Rev_Map[index]=i\n",
    "        data['Section'].iloc[j]=index\n",
    "        Punishment[index]=data['Punishment'].iloc[j]\n",
    "        index+=1\n",
    "    else:\n",
    "        data['Section'].iloc[j]=Map[i]"
   ]
  },
  {
   "cell_type": "code",
   "execution_count": 11,
   "metadata": {},
   "outputs": [
    {
     "data": {
      "text/plain": [
       "0"
      ]
     },
     "execution_count": 11,
     "metadata": {},
     "output_type": "execute_result"
    }
   ],
   "source": [
    "Map['IPC_140']"
   ]
  },
  {
   "cell_type": "code",
   "execution_count": 12,
   "metadata": {},
   "outputs": [
    {
     "data": {
      "text/plain": [
       "'IPC_140'"
      ]
     },
     "execution_count": 12,
     "metadata": {},
     "output_type": "execute_result"
    }
   ],
   "source": [
    "Rev_Map[0]"
   ]
  },
  {
   "cell_type": "code",
   "execution_count": 22,
   "metadata": {},
   "outputs": [],
   "source": [
    "with open('Mapping.json', 'w') as f:\n",
    "    json.dump(Rev_Map, f)"
   ]
  },
  {
   "cell_type": "code",
   "execution_count": 32,
   "metadata": {},
   "outputs": [],
   "source": [
    "with open('Punishment.json', 'w') as f:\n",
    "    json.dump(Punishment, f)"
   ]
  },
  {
   "cell_type": "markdown",
   "metadata": {},
   "source": [
    "Augmentation"
   ]
  },
  {
   "cell_type": "code",
   "execution_count": 10,
   "metadata": {},
   "outputs": [
    {
     "name": "stderr",
     "output_type": "stream",
     "text": [
      "c:\\Users\\ayush\\miniconda3\\envs\\ipc\\Lib\\site-packages\\transformers\\models\\marian\\tokenization_marian.py:175: UserWarning: Recommended: pip install sacremoses.\n",
      "  warnings.warn(\"Recommended: pip install sacremoses.\")\n",
      "c:\\Users\\ayush\\miniconda3\\envs\\ipc\\Lib\\site-packages\\transformers\\tokenization_utils_base.py:1601: FutureWarning: `clean_up_tokenization_spaces` was not set. It will be set to `True` by default. This behavior will be depracted in transformers v4.45, and will be then set to `False` by default. For more details check this issue: https://github.com/huggingface/transformers/issues/31884\n",
      "  warnings.warn(\n"
     ]
    }
   ],
   "source": [
    "mod=augmentor.marian_loader()"
   ]
  },
  {
   "cell_type": "code",
   "execution_count": null,
   "metadata": {},
   "outputs": [],
   "source": [
    "Off,Lab=mod.forward(data)"
   ]
  },
  {
   "cell_type": "code",
   "execution_count": 18,
   "metadata": {},
   "outputs": [],
   "source": [
    "generated=pd.DataFrame({'Generated':Off,'ipc':Lab})"
   ]
  },
  {
   "cell_type": "code",
   "execution_count": 19,
   "metadata": {},
   "outputs": [
    {
     "data": {
      "text/html": [
       "<div>\n",
       "<style scoped>\n",
       "    .dataframe tbody tr th:only-of-type {\n",
       "        vertical-align: middle;\n",
       "    }\n",
       "\n",
       "    .dataframe tbody tr th {\n",
       "        vertical-align: top;\n",
       "    }\n",
       "\n",
       "    .dataframe thead th {\n",
       "        text-align: right;\n",
       "    }\n",
       "</style>\n",
       "<table border=\"1\" class=\"dataframe\">\n",
       "  <thead>\n",
       "    <tr style=\"text-align: right;\">\n",
       "      <th></th>\n",
       "      <th>Generated</th>\n",
       "      <th>ipc</th>\n",
       "    </tr>\n",
       "  </thead>\n",
       "  <tbody>\n",
       "    <tr>\n",
       "      <th>0</th>\n",
       "      <td>Any person controlling a public or private hos...</td>\n",
       "      <td>40</td>\n",
       "    </tr>\n",
       "    <tr>\n",
       "      <th>1</th>\n",
       "      <td>Any person who supervises a hospital, whether ...</td>\n",
       "      <td>40</td>\n",
       "    </tr>\n",
       "    <tr>\n",
       "      <th>2</th>\n",
       "      <td>Any person supervising a hospital, whether pub...</td>\n",
       "      <td>40</td>\n",
       "    </tr>\n",
       "    <tr>\n",
       "      <th>3</th>\n",
       "      <td>Any person who supervises a hospital, whether ...</td>\n",
       "      <td>40</td>\n",
       "    </tr>\n",
       "    <tr>\n",
       "      <th>4</th>\n",
       "      <td>Any person who supervises a hospital, public o...</td>\n",
       "      <td>40</td>\n",
       "    </tr>\n",
       "    <tr>\n",
       "      <th>5</th>\n",
       "      <td>I. INTERNATIONAL RESEARCH COMMISSION</td>\n",
       "      <td>41</td>\n",
       "    </tr>\n",
       "    <tr>\n",
       "      <th>6</th>\n",
       "      <td>Riots</td>\n",
       "      <td>41</td>\n",
       "    </tr>\n",
       "    <tr>\n",
       "      <th>7</th>\n",
       "      <td>Riots</td>\n",
       "      <td>41</td>\n",
       "    </tr>\n",
       "    <tr>\n",
       "      <th>8</th>\n",
       "      <td>Disturbing</td>\n",
       "      <td>41</td>\n",
       "    </tr>\n",
       "    <tr>\n",
       "      <th>9</th>\n",
       "      <td>----------------------------------------------...</td>\n",
       "      <td>41</td>\n",
       "    </tr>\n",
       "    <tr>\n",
       "      <th>10</th>\n",
       "      <td>Employees document a false document with inten...</td>\n",
       "      <td>42</td>\n",
       "    </tr>\n",
       "    <tr>\n",
       "      <th>11</th>\n",
       "      <td>Officer dials an incorrect document with inten...</td>\n",
       "      <td>42</td>\n",
       "    </tr>\n",
       "    <tr>\n",
       "      <th>12</th>\n",
       "      <td>Officer chooses a wrong document with the inte...</td>\n",
       "      <td>42</td>\n",
       "    </tr>\n",
       "    <tr>\n",
       "      <th>13</th>\n",
       "      <td>Officer chooses wrong document with intent to ...</td>\n",
       "      <td>42</td>\n",
       "    </tr>\n",
       "    <tr>\n",
       "      <th>14</th>\n",
       "      <td>Staff member selects a false document with int...</td>\n",
       "      <td>42</td>\n",
       "    </tr>\n",
       "    <tr>\n",
       "      <th>15</th>\n",
       "      <td>Persons working illegally in the trade</td>\n",
       "      <td>43</td>\n",
       "    </tr>\n",
       "    <tr>\n",
       "      <th>16</th>\n",
       "      <td>Unlawfully engaged in trade</td>\n",
       "      <td>43</td>\n",
       "    </tr>\n",
       "    <tr>\n",
       "      <th>17</th>\n",
       "      <td>Legally active in trade</td>\n",
       "      <td>43</td>\n",
       "    </tr>\n",
       "    <tr>\n",
       "      <th>18</th>\n",
       "      <td>Legal activity in trade</td>\n",
       "      <td>43</td>\n",
       "    </tr>\n",
       "    <tr>\n",
       "      <th>19</th>\n",
       "      <td>Legal activity in trade</td>\n",
       "      <td>43</td>\n",
       "    </tr>\n",
       "    <tr>\n",
       "      <th>20</th>\n",
       "      <td>Persons who illegally purchase or purchase goods</td>\n",
       "      <td>44</td>\n",
       "    </tr>\n",
       "    <tr>\n",
       "      <th>21</th>\n",
       "      <td>Official illegally purchasing or bidding property</td>\n",
       "      <td>44</td>\n",
       "    </tr>\n",
       "    <tr>\n",
       "      <th>22</th>\n",
       "      <td>Official illegal acquisition or bid of real es...</td>\n",
       "      <td>44</td>\n",
       "    </tr>\n",
       "    <tr>\n",
       "      <th>23</th>\n",
       "      <td>Illegal acquisition or official offer of immov...</td>\n",
       "      <td>44</td>\n",
       "    </tr>\n",
       "    <tr>\n",
       "      <th>24</th>\n",
       "      <td>Illegal possession or supply of movable property</td>\n",
       "      <td>44</td>\n",
       "    </tr>\n",
       "    <tr>\n",
       "      <th>25</th>\n",
       "      <td>Staff Regulations</td>\n",
       "      <td>45</td>\n",
       "    </tr>\n",
       "    <tr>\n",
       "      <th>26</th>\n",
       "      <td>Personality of an official</td>\n",
       "      <td>45</td>\n",
       "    </tr>\n",
       "    <tr>\n",
       "      <th>27</th>\n",
       "      <td>Personality of an official</td>\n",
       "      <td>45</td>\n",
       "    </tr>\n",
       "    <tr>\n",
       "      <th>28</th>\n",
       "      <td>Personality of a staff member</td>\n",
       "      <td>45</td>\n",
       "    </tr>\n",
       "    <tr>\n",
       "      <th>29</th>\n",
       "      <td>Personality of the staff member</td>\n",
       "      <td>45</td>\n",
       "    </tr>\n",
       "    <tr>\n",
       "      <th>30</th>\n",
       "      <td>b.</td>\n",
       "      <td>46</td>\n",
       "    </tr>\n",
       "    <tr>\n",
       "      <th>31</th>\n",
       "      <td>As described</td>\n",
       "      <td>46</td>\n",
       "    </tr>\n",
       "    <tr>\n",
       "      <th>32</th>\n",
       "      <td>How to describe</td>\n",
       "      <td>46</td>\n",
       "    </tr>\n",
       "    <tr>\n",
       "      <th>33</th>\n",
       "      <td>How to Describe</td>\n",
       "      <td>46</td>\n",
       "    </tr>\n",
       "    <tr>\n",
       "      <th>34</th>\n",
       "      <td>How could you...</td>\n",
       "      <td>46</td>\n",
       "    </tr>\n",
       "    <tr>\n",
       "      <th>35</th>\n",
       "      <td>Candite defines them as the right to election.</td>\n",
       "      <td>47</td>\n",
       "    </tr>\n",
       "    <tr>\n",
       "      <th>36</th>\n",
       "      <td>\"Candidate\", \"Electoral Law\" defined</td>\n",
       "      <td>47</td>\n",
       "    </tr>\n",
       "    <tr>\n",
       "      <th>37</th>\n",
       "      <td>\"Kandidat\", \"Election\" defined</td>\n",
       "      <td>47</td>\n",
       "    </tr>\n",
       "    <tr>\n",
       "      <th>38</th>\n",
       "      <td>\"Kandidat\", \"Election\" defined</td>\n",
       "      <td>47</td>\n",
       "    </tr>\n",
       "    <tr>\n",
       "      <th>39</th>\n",
       "      <td>\"Kandidat\" and \"Transfer\" are defined.</td>\n",
       "      <td>47</td>\n",
       "    </tr>\n",
       "  </tbody>\n",
       "</table>\n",
       "</div>"
      ],
      "text/plain": [
       "                                            Generated  ipc\n",
       "0   Any person controlling a public or private hos...   40\n",
       "1   Any person who supervises a hospital, whether ...   40\n",
       "2   Any person supervising a hospital, whether pub...   40\n",
       "3   Any person who supervises a hospital, whether ...   40\n",
       "4   Any person who supervises a hospital, public o...   40\n",
       "5                I. INTERNATIONAL RESEARCH COMMISSION   41\n",
       "6                                               Riots   41\n",
       "7                                               Riots   41\n",
       "8                                          Disturbing   41\n",
       "9   ----------------------------------------------...   41\n",
       "10  Employees document a false document with inten...   42\n",
       "11  Officer dials an incorrect document with inten...   42\n",
       "12  Officer chooses a wrong document with the inte...   42\n",
       "13  Officer chooses wrong document with intent to ...   42\n",
       "14  Staff member selects a false document with int...   42\n",
       "15             Persons working illegally in the trade   43\n",
       "16                        Unlawfully engaged in trade   43\n",
       "17                            Legally active in trade   43\n",
       "18                            Legal activity in trade   43\n",
       "19                            Legal activity in trade   43\n",
       "20   Persons who illegally purchase or purchase goods   44\n",
       "21  Official illegally purchasing or bidding property   44\n",
       "22  Official illegal acquisition or bid of real es...   44\n",
       "23  Illegal acquisition or official offer of immov...   44\n",
       "24   Illegal possession or supply of movable property   44\n",
       "25                                  Staff Regulations   45\n",
       "26                         Personality of an official   45\n",
       "27                         Personality of an official   45\n",
       "28                      Personality of a staff member   45\n",
       "29                    Personality of the staff member   45\n",
       "30                                                 b.   46\n",
       "31                                       As described   46\n",
       "32                                    How to describe   46\n",
       "33                                    How to Describe   46\n",
       "34                                   How could you...   46\n",
       "35     Candite defines them as the right to election.   47\n",
       "36               \"Candidate\", \"Electoral Law\" defined   47\n",
       "37                     \"Kandidat\", \"Election\" defined   47\n",
       "38                     \"Kandidat\", \"Election\" defined   47\n",
       "39             \"Kandidat\" and \"Transfer\" are defined.   47"
      ]
     },
     "execution_count": 19,
     "metadata": {},
     "output_type": "execute_result"
    }
   ],
   "source": [
    "generated"
   ]
  },
  {
   "cell_type": "code",
   "execution_count": null,
   "metadata": {},
   "outputs": [],
   "source": [
    "Final = pd.concat([data,generated], ignore_index=True)"
   ]
  },
  {
   "cell_type": "code",
   "execution_count": null,
   "metadata": {},
   "outputs": [],
   "source": [
    "Final=Final.sample(frac=1,random_seed=42).reset_index(drop=True)"
   ]
  },
  {
   "cell_type": "code",
   "execution_count": null,
   "metadata": {},
   "outputs": [],
   "source": [
    "Final.to_csv(\"Train.csv\")"
   ]
  }
 ],
 "metadata": {
  "kernelspec": {
   "display_name": "Python 3",
   "language": "python",
   "name": "python3"
  },
  "language_info": {
   "codemirror_mode": {
    "name": "ipython",
    "version": 3
   },
   "file_extension": ".py",
   "mimetype": "text/x-python",
   "name": "python",
   "nbconvert_exporter": "python",
   "pygments_lexer": "ipython3",
   "version": "3.11.9"
  }
 },
 "nbformat": 4,
 "nbformat_minor": 2
}
